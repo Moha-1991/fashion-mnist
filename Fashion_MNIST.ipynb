{
  "cells": [
    {
      "cell_type": "markdown",
      "metadata": {
        "id": "30c40pQjg6X9"
      },
      "source": [
        "###Fashion-MNIST\n",
        "   - **Description:** A dataset of Zalando's article images, intended as a drop-in replacement for the original MNIST dataset. It contains 70,000 28x28 grayscale images of 10 fashion categories.\n",
        "   - **Classes:** 10 (T-shirt/top, Trouser, Pullover, Dress, Coat, Sandal, Shirt, Sneaker, Bag, Ankle boot)\n",
        "\n",
        "---\n",
        "##Tasks\n",
        "\n",
        "- Train a CNN model using this dataset and finetune it to get above 70% accuracy\n",
        "- Make sure to use print statements where neccesary to monitor the training of your model"
      ]
    },
    {
      "cell_type": "code",
      "execution_count": 1,
      "metadata": {
        "id": "okFiVyUceSri"
      },
      "outputs": [],
      "source": [
        "from tensorflow.keras.datasets import fashion_mnist\n",
        "import tensorflow as tf\n",
        "from tensorflow.keras.models import Sequential\n",
        "from tensorflow.keras.layers import Dense, Conv2D, Flatten, MaxPooling2D, Dropout\n",
        "from tensorflow.keras.utils import to_categorical\n",
        "\n"
      ]
    },
    {
      "cell_type": "code",
      "execution_count": 2,
      "metadata": {
        "colab": {
          "base_uri": "https://localhost:8080/"
        },
        "id": "zwIcAtTQL2k0",
        "outputId": "3db148c5-d6c0-4677-9e94-a910c8007ff6"
      },
      "outputs": [
        {
          "name": "stdout",
          "output_type": "stream",
          "text": [
            "Downloading data from https://storage.googleapis.com/tensorflow/tf-keras-datasets/train-labels-idx1-ubyte.gz\n",
            "29515/29515 [==============================] - 0s 0us/step\n",
            "Downloading data from https://storage.googleapis.com/tensorflow/tf-keras-datasets/train-images-idx3-ubyte.gz\n",
            "26421880/26421880 [==============================] - 0s 0us/step\n",
            "Downloading data from https://storage.googleapis.com/tensorflow/tf-keras-datasets/t10k-labels-idx1-ubyte.gz\n",
            "5148/5148 [==============================] - 0s 0us/step\n",
            "Downloading data from https://storage.googleapis.com/tensorflow/tf-keras-datasets/t10k-images-idx3-ubyte.gz\n",
            "4422102/4422102 [==============================] - 0s 0us/step\n"
          ]
        }
      ],
      "source": [
        "# Load fashion_mnits dataset\n",
        "(x_train, y_train), (x_test, y_test) = fashion_mnist.load_data()"
      ]
    },
    {
      "cell_type": "code",
      "execution_count": 3,
      "metadata": {
        "id": "j3DJhha0M3sJ"
      },
      "outputs": [],
      "source": [
        "# Reshape the data\n",
        "x_train = x_train.reshape(-1, 28, 28, 1)\n",
        "x_test = x_test.reshape(-1, 28, 28, 1)"
      ]
    },
    {
      "cell_type": "code",
      "execution_count": 4,
      "metadata": {
        "id": "a3iLdfJXONGY"
      },
      "outputs": [],
      "source": [
        "# Normalize the datset\n",
        "x_train = x_train / 255.0\n",
        "x_test = x_test / 255."
      ]
    },
    {
      "cell_type": "code",
      "execution_count": 5,
      "metadata": {
        "id": "Gunua3uTOp50"
      },
      "outputs": [],
      "source": [
        "# Onehot encoding\n",
        "y_train = to_categorical(y_train,10)\n",
        "y_test = to_categorical(y_test,10)\n"
      ]
    },
    {
      "cell_type": "code",
      "execution_count": 6,
      "metadata": {
        "id": "qDBI4UpYPB_c"
      },
      "outputs": [],
      "source": [
        "# Define the model\n",
        "model = Sequential()\n"
      ]
    },
    {
      "cell_type": "code",
      "execution_count": 7,
      "metadata": {
        "id": "JjKpMm-dPId1"
      },
      "outputs": [],
      "source": [
        "# Convulation layers One\n",
        "model.add(Conv2D(32, (3, 3), activation='relu', input_shape=(28, 28, 1)))  #  It provides non_linearity\n",
        "model.add(MaxPooling2D((2, 2)))\n"
      ]
    },
    {
      "cell_type": "code",
      "execution_count": 8,
      "metadata": {
        "id": "lBUlGR5ZPdWO"
      },
      "outputs": [],
      "source": [
        "# Convulation layer Two\n",
        "model.add(Conv2D(64, (3, 3), activation='relu'))\n",
        "model.add(MaxPooling2D((2, 2)))"
      ]
    },
    {
      "cell_type": "code",
      "execution_count": 9,
      "metadata": {
        "id": "p5INEivuPm72"
      },
      "outputs": [],
      "source": [
        "#  Convulation layer Three\n",
        "model.add(Conv2D(64, (3, 3), activation='relu'))"
      ]
    },
    {
      "cell_type": "code",
      "execution_count": 10,
      "metadata": {
        "id": "74WOshO3PtA-"
      },
      "outputs": [],
      "source": [
        "# Flatten to the layer (Result)  # converting the image one single vector\n",
        "model.add(Flatten())"
      ]
    },
    {
      "cell_type": "code",
      "execution_count": 11,
      "metadata": {
        "id": "3qieZOi2P_DF"
      },
      "outputs": [],
      "source": [
        "# Fully conected layer\n",
        "model.add(Dense(128, activation='relu'))\n",
        "model.add(Dropout (0.5))\n",
        "model.add(Dense(10, activation='softmax'))\n"
      ]
    },
    {
      "cell_type": "code",
      "execution_count": 12,
      "metadata": {
        "colab": {
          "base_uri": "https://localhost:8080/"
        },
        "id": "q4sjiQ6UQn--",
        "outputId": "99e86c2d-0c18-4ba8-e11d-a85050267e74"
      },
      "outputs": [
        {
          "name": "stdout",
          "output_type": "stream",
          "text": [
            "Model: \"sequential\"\n",
            "_________________________________________________________________\n",
            " Layer (type)                Output Shape              Param #   \n",
            "=================================================================\n",
            " conv2d (Conv2D)             (None, 26, 26, 32)        320       \n",
            "                                                                 \n",
            " max_pooling2d (MaxPooling2  (None, 13, 13, 32)        0         \n",
            " D)                                                              \n",
            "                                                                 \n",
            " conv2d_1 (Conv2D)           (None, 11, 11, 64)        18496     \n",
            "                                                                 \n",
            " max_pooling2d_1 (MaxPoolin  (None, 5, 5, 64)          0         \n",
            " g2D)                                                            \n",
            "                                                                 \n",
            " conv2d_2 (Conv2D)           (None, 3, 3, 64)          36928     \n",
            "                                                                 \n",
            " flatten (Flatten)           (None, 576)               0         \n",
            "                                                                 \n",
            " dense (Dense)               (None, 128)               73856     \n",
            "                                                                 \n",
            " dropout (Dropout)           (None, 128)               0         \n",
            "                                                                 \n",
            " dense_1 (Dense)             (None, 10)                1290      \n",
            "                                                                 \n",
            "=================================================================\n",
            "Total params: 130890 (511.29 KB)\n",
            "Trainable params: 130890 (511.29 KB)\n",
            "Non-trainable params: 0 (0.00 Byte)\n",
            "_________________________________________________________________\n"
          ]
        }
      ],
      "source": [
        "# Compile the model\n",
        "model.compile(optimizer='adam', loss='categorical_crossentropy', metrics=['accuracy'])\n",
        "\n",
        "# Print the summary\n",
        "model.summary()\n"
      ]
    },
    {
      "cell_type": "code",
      "execution_count": 13,
      "metadata": {
        "colab": {
          "base_uri": "https://localhost:8080/"
        },
        "id": "Bk0whGl-Q19U",
        "outputId": "9fc7a9d9-e433-4a4c-9954-d3985cc21b16"
      },
      "outputs": [
        {
          "name": "stdout",
          "output_type": "stream",
          "text": [
            "Epoch 1/10\n",
            "1875/1875 [==============================] - 71s 37ms/step - loss: 0.5772 - accuracy: 0.7887 - val_loss: 0.3859 - val_accuracy: 0.8620\n",
            "Epoch 2/10\n",
            "1875/1875 [==============================] - 57s 30ms/step - loss: 0.3732 - accuracy: 0.8661 - val_loss: 0.3497 - val_accuracy: 0.8755\n",
            "Epoch 3/10\n",
            "1875/1875 [==============================] - 56s 30ms/step - loss: 0.3198 - accuracy: 0.8859 - val_loss: 0.3021 - val_accuracy: 0.8895\n",
            "Epoch 4/10\n",
            "1875/1875 [==============================] - 56s 30ms/step - loss: 0.2877 - accuracy: 0.8966 - val_loss: 0.2936 - val_accuracy: 0.8890\n",
            "Epoch 5/10\n",
            "1875/1875 [==============================] - 56s 30ms/step - loss: 0.2628 - accuracy: 0.9051 - val_loss: 0.2731 - val_accuracy: 0.9026\n",
            "Epoch 6/10\n",
            "1875/1875 [==============================] - 58s 31ms/step - loss: 0.2426 - accuracy: 0.9112 - val_loss: 0.2758 - val_accuracy: 0.9055\n",
            "Epoch 7/10\n",
            "1875/1875 [==============================] - 56s 30ms/step - loss: 0.2249 - accuracy: 0.9166 - val_loss: 0.2736 - val_accuracy: 0.9040\n",
            "Epoch 8/10\n",
            "1875/1875 [==============================] - 56s 30ms/step - loss: 0.2111 - accuracy: 0.9228 - val_loss: 0.2699 - val_accuracy: 0.9083\n",
            "Epoch 9/10\n",
            "1875/1875 [==============================] - 57s 30ms/step - loss: 0.1971 - accuracy: 0.9265 - val_loss: 0.2693 - val_accuracy: 0.9061\n",
            "Epoch 10/10\n",
            "1875/1875 [==============================] - 58s 31ms/step - loss: 0.1863 - accuracy: 0.9302 - val_loss: 0.2708 - val_accuracy: 0.9083\n"
          ]
        },
        {
          "data": {
            "text/plain": [
              "<keras.src.callbacks.History at 0x7902542ebbe0>"
            ]
          },
          "execution_count": 13,
          "metadata": {},
          "output_type": "execute_result"
        }
      ],
      "source": [
        "# Train the model\n",
        "model.fit(x_train, y_train, epochs=10, batch_size=32, validation_data=(x_test, y_test))\n"
      ]
    },
    {
      "cell_type": "code",
      "execution_count": 14,
      "metadata": {
        "colab": {
          "base_uri": "https://localhost:8080/"
        },
        "id": "FzzA8AxsRGj_",
        "outputId": "77171f36-c337-4c33-ca4b-f7c1afe19f63"
      },
      "outputs": [
        {
          "name": "stdout",
          "output_type": "stream",
          "text": [
            "313/313 [==============================] - 3s 8ms/step - loss: 0.2708 - accuracy: 0.9083\n",
            "Test Accuracy: 0.90829998254776\n",
            "Test Loss: 0.27077794075012207\n"
          ]
        }
      ],
      "source": [
        "# Evaluate the model\n",
        "loss, accuracy = model.evaluate(x_test, y_test)\n",
        "print('Test Accuracy:', accuracy)\n",
        "print('Test Loss:', loss)"
      ]
    },
    {
      "cell_type": "code",
      "execution_count": 15,
      "metadata": {
        "colab": {
          "base_uri": "https://localhost:8080/"
        },
        "id": "_fwmQTr2XlWh",
        "outputId": "4afbf800-deeb-4370-a48e-8601e32a1922"
      },
      "outputs": [
        {
          "name": "stdout",
          "output_type": "stream",
          "text": [
            "313/313 [==============================] - 4s 11ms/step\n",
            "Prediction: 9, Actual: 9\n",
            "Prediction: 2, Actual: 2\n",
            "Prediction: 1, Actual: 1\n",
            "Prediction: 1, Actual: 1\n",
            "Prediction: 6, Actual: 6\n"
          ]
        }
      ],
      "source": [
        "# Make predictions\n",
        "predictions = model.predict(x_test)\n",
        "import numpy as np\n",
        "\n",
        "for i in range(5):\n",
        "    print(f'Prediction: {np.argmax(predictions[i])}, Actual: {np.argmax(y_test[i])}')"
      ]
    }
  ],
  "metadata": {
    "colab": {
      "provenance": []
    },
    "kernelspec": {
      "display_name": "Python 3",
      "name": "python3"
    },
    "language_info": {
      "name": "python"
    }
  },
  "nbformat": 4,
  "nbformat_minor": 0
}
